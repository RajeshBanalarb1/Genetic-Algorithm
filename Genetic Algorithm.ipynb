{
 "cells": [
  {
   "cell_type": "markdown",
   "id": "503c2991",
   "metadata": {},
   "source": [
    "#  Training the model and predicting the accuracy using Genetic Algorithm in Logistics regression technique"
   ]
  },
  {
   "cell_type": "markdown",
   "id": "eebc2d62",
   "metadata": {},
   "source": [
    "### Importing required libraries!"
   ]
  },
  {
   "cell_type": "code",
   "execution_count": 23,
   "id": "b0b525f9",
   "metadata": {},
   "outputs": [],
   "source": [
    "import numpy as np\n",
    "import pandas as pd\n",
    "import random\n",
    "import matplotlib.pyplot"
   ]
  },
  {
   "cell_type": "code",
   "execution_count": 24,
   "id": "3c5c98c4",
   "metadata": {},
   "outputs": [],
   "source": [
    "from sklearn.datasets import load_breast_cancer\n",
    "from sklearn.model_selection import train_test_split\n",
    "from sklearn.linear_model import LogisticRegression\n",
    "from sklearn.metrics import accuracy_score"
   ]
  },
  {
   "cell_type": "code",
   "execution_count": 25,
   "id": "3e8a81cd",
   "metadata": {},
   "outputs": [],
   "source": [
    "import warnings\n",
    "warnings.filterwarnings('ignore')"
   ]
  },
  {
   "cell_type": "markdown",
   "id": "800c06a4",
   "metadata": {},
   "source": [
    "### Importing the breast cancer dataset!"
   ]
  },
  {
   "cell_type": "code",
   "execution_count": 26,
   "id": "7765378f",
   "metadata": {},
   "outputs": [],
   "source": [
    " from sklearn.datasets import load_breast_cancer\n",
    "breast_cancer = load_breast_cancer()\n",
    "df = pd.DataFrame(breast_cancer['data'], columns=breast_cancer['feature_names'])\n",
    "label = breast_cancer[\"target\"]"
   ]
  },
  {
   "cell_type": "markdown",
   "id": "5f5da4a5",
   "metadata": {},
   "source": [
    "### Splitting the model into training set (70%) and testing set (30%)!"
   ]
  },
  {
   "cell_type": "code",
   "execution_count": 27,
   "id": "9935e884",
   "metadata": {},
   "outputs": [],
   "source": [
    "X_train, X_test, y_train, y_test = train_test_split(df, label, test_size=0.30, random_state=101)"
   ]
  },
  {
   "cell_type": "markdown",
   "id": "bb735199",
   "metadata": {},
   "source": [
    "### Training using Logistics Regression Technique!"
   ]
  },
  {
   "cell_type": "code",
   "execution_count": 28,
   "id": "b66b0841",
   "metadata": {},
   "outputs": [
    {
     "name": "stdout",
     "output_type": "stream",
     "text": [
      "Accuracy = 0.9239766081871345\n"
     ]
    }
   ],
   "source": [
    "logistic_model = LogisticRegression()\n",
    "logistic_model.fit(X_train,y_train)\n",
    "predictions = logistic_model.predict(X_test)\n",
    "print(\"Accuracy = \"+ str(accuracy_score(y_test,predictions)))"
   ]
  },
  {
   "cell_type": "markdown",
   "id": "5226d5d2",
   "metadata": {},
   "source": [
    "### Defining all the steps required to follow during Genetic algorithm!"
   ]
  },
  {
   "cell_type": "code",
   "execution_count": 21,
   "id": "62ff74f6",
   "metadata": {},
   "outputs": [],
   "source": [
    "def initilization_of_population(size,n_feat):\n",
    "    population = []\n",
    "    for i in range(size):\n",
    "        chromosome = np.ones(n_feat,dtype=np.bool)\n",
    "        chromosome[:int(0.3*n_feat)]=False\n",
    "        np.random.shuffle(chromosome)\n",
    "        population.append(chromosome)\n",
    "    return population\n",
    "\n",
    "def fitness_score(population):\n",
    "    scores = []\n",
    "    for chromosome in population:\n",
    "        logistic_model.fit(X_train.iloc[:,chromosome],y_train)\n",
    "        predictions = logistic_model.predict(X_test.iloc[:,chromosome])\n",
    "        scores.append(accuracy_score(y_test,predictions))\n",
    "    scores, population = np.array(scores), np.array(population) \n",
    "    inds = np.argsort(scores)\n",
    "    return list(scores[inds][::-1]), list(population[inds,:][::-1])\n",
    "\n",
    "def selection(pop_after_fit,n_parents):\n",
    "    population_nextgen = []\n",
    "    for i in range(n_parents):\n",
    "        population_nextgen.append(pop_after_fit[i])\n",
    "    return population_nextgen\n",
    "\n",
    "def crossover(pop_after_sel):\n",
    "    population_nextgen=pop_after_sel\n",
    "    for i in range(len(pop_after_sel)):\n",
    "        child=pop_after_sel[i]\n",
    "        child[3:7]=pop_after_sel[(i+1)%len(pop_after_sel)][3:7]\n",
    "        population_nextgen.append(child)\n",
    "    return population_nextgen\n",
    "\n",
    "def mutation(pop_after_cross,mutation_rate):\n",
    "    population_nextgen = []\n",
    "    for i in range(0,len(pop_after_cross)):\n",
    "        chromosome = pop_after_cross[i]\n",
    "        for j in range(len(chromosome)):\n",
    "            if random.random() < mutation_rate:\n",
    "                chromosome[j]= not chromosome[j]\n",
    "        population_nextgen.append(chromosome)\n",
    "    #print(population_nextgen)\n",
    "    return population_nextgen\n",
    "\n",
    "def generations(size,n_feat,n_parents,mutation_rate,n_gen,X_train,\n",
    "                                   X_test, y_train, y_test):\n",
    "    best_chromo= []\n",
    "    best_score= []\n",
    "    population_nextgen=initilization_of_population(size,n_feat)\n",
    "    for i in range(n_gen):\n",
    "        scores, pop_after_fit = fitness_score(population_nextgen)\n",
    "        print(scores[:2])\n",
    "        pop_after_sel = selection(pop_after_fit,n_parents)\n",
    "        pop_after_cross = crossover(pop_after_sel)\n",
    "        population_nextgen = mutation(pop_after_cross,mutation_rate)\n",
    "        best_chromo.append(pop_after_fit[0])\n",
    "        best_score.append(scores[0])\n",
    "    return best_chromo,best_score"
   ]
  },
  {
   "cell_type": "markdown",
   "id": "1b36157d",
   "metadata": {},
   "source": [
    "### The accuracy after using Genetic Algorithm in Logistics regression technique"
   ]
  },
  {
   "cell_type": "code",
   "execution_count": 22,
   "id": "0d4bbbab",
   "metadata": {
    "scrolled": true
   },
   "outputs": [
    {
     "name": "stdout",
     "output_type": "stream",
     "text": [
      "[0.9590643274853801, 0.9532163742690059]\n",
      "[0.9532163742690059, 0.9532163742690059]\n",
      "[0.9532163742690059, 0.9532163742690059]\n",
      "[0.9532163742690059, 0.9532163742690059]\n",
      "[0.9532163742690059, 0.9532163742690059]\n",
      "[0.9473684210526315, 0.9473684210526315]\n",
      "[0.9532163742690059, 0.9532163742690059]\n",
      "[0.9473684210526315, 0.9473684210526315]\n",
      "[0.9532163742690059, 0.9532163742690059]\n",
      "[0.9532163742690059, 0.9532163742690059]\n",
      "Accuracy score after genetic algorithm is= 0.9532163742690059\n"
     ]
    }
   ],
   "source": [
    "chromo,score=generations(size=100,n_feat=30,n_parents=50,mutation_rate=0.10,\n",
    "                     n_gen=10,X_train=X_train,X_test=X_test,y_train=y_train,y_test=y_test)\n",
    "logistic_model.fit(X_train.iloc[:,chromo[-1]],y_train)\n",
    "predictions = logistic_model.predict(X_test.iloc[:,chromo[-1]])\n",
    "print(\"Accuracy score after genetic algorithm is= \"+str(accuracy_score(y_test,predictions)))"
   ]
  },
  {
   "cell_type": "code",
   "execution_count": null,
   "id": "a306e6ec",
   "metadata": {},
   "outputs": [],
   "source": []
  }
 ],
 "metadata": {
  "kernelspec": {
   "display_name": "Python 3",
   "language": "python",
   "name": "python3"
  },
  "language_info": {
   "codemirror_mode": {
    "name": "ipython",
    "version": 3
   },
   "file_extension": ".py",
   "mimetype": "text/x-python",
   "name": "python",
   "nbconvert_exporter": "python",
   "pygments_lexer": "ipython3",
   "version": "3.8.8"
  }
 },
 "nbformat": 4,
 "nbformat_minor": 5
}
